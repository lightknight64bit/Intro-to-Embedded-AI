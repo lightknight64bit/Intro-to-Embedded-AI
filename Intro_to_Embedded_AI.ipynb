{
  "nbformat": 4,
  "nbformat_minor": 0,
  "metadata": {
    "colab": {
      "name": "Intro to Embedded AI.ipynb",
      "provenance": [],
      "collapsed_sections": [],
      "authorship_tag": "ABX9TyOeJy8A3jggm5p7CvPIBH6v",
      "include_colab_link": true
    },
    "kernelspec": {
      "name": "python3",
      "display_name": "Python 3"
    },
    "language_info": {
      "name": "python"
    },
    "accelerator": "GPU"
  },
  "cells": [
    {
      "cell_type": "markdown",
      "metadata": {
        "id": "view-in-github",
        "colab_type": "text"
      },
      "source": [
        "<a href=\"https://colab.research.google.com/github/lightknight64bit/Intro-to-Embedded-AI/blob/main/Intro_to_Embedded_AI.ipynb\" target=\"_parent\"><img src=\"https://colab.research.google.com/assets/colab-badge.svg\" alt=\"Open In Colab\"/></a>"
      ]
    },
    {
      "cell_type": "markdown",
      "metadata": {
        "id": "Qu2NQUN97J14"
      },
      "source": [
        "# Introduction to ML on devices\n",
        "## Lecture goals\n",
        " * Intro to TinyML, CV, DL and IoT\n",
        " * Keras and Tensorflow\n",
        " * ANNs, CNNs and R-CNN\n",
        " * Object detection in an image\n",
        " * Deploying on a device\n",
        "<div>\n",
        "<img src=\"https://www.eetimes.com/wp-content/uploads/media-1310359-tinymllogo-min.png?fit=800%2C737\" width=\"200\"/>\n",
        "<img src = \"data:image/png;base64,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\" width=200/>\n",
        "<img src=\"data:image/png;base64,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\" width = 200>\n",
        "<img src = \"data:image/png;base64,iVBORw0KGgoAAAANSUhEUgAAARMAAAC3CAMAAAAGjUrGAAAA6lBMVEX///8AAAC8EUJ1qSi/EUPEEkV3rCnCEUR6sCp4rim0ED97siqFDC+pDzuXDjWgDjja2tpkCSOOjo7t7e2RDTOuED1QBxwtBBD4+PgzShFypCdwcHAdKgpsnCV5eXlxCig5BRRCBhfJyclPT09KaxlCXxZdhyAkNAwmJiYgAwsbAwlYCB+tra2IDDChoaG/v78RGAY9WBVeiCAVHgdUeh0eLAp3d3cyBRJ8CytIBhkVFRWFhYXDw8NFRUVbW1sHCgM3UBMpPA5OcRsyMjISAgYsLCzV1dUTGwZlkyNLS0sNEwQ+Pj4RERElAw2uoMMcAAAMqUlEQVR4nO1dC1fayhZ2QpIJbxDwQUGgAlURLUIV66kPaj0cT/3/f+fOnpkkk2TGtmpvzqTzrVVXgYG6P/Z776QbGwYGBgYGBgYGBgYGBgYGBgYGBgYGBgYGBgYGBgYGBgYG/wnUGuTPyelPnz89qW1sNGq/8TdKF7XaX4jgGn5s7u1fNZ493bja39sMzv9Vyx4vOzs1lMC7L9dyjTm9/vIueby2s/N//q1/I3b2ArluHsmPx3ko6JXk/JVARAd+fAwe7mWClp1aoCGfyJ9hd3iDFguEPnzgyrIZ1ZXTTa4iN7sIjboIzdZn5NH8b19batrTEqoIkdBbD9Ha84Yjr915LM7QpztGi3CeEfLxFn1yZ2hdPNvNeR6ajXNnwufspSbNm+CESTHPubn1qpNzXS+XIz/Jj7VbHM2LjJT94Pw+U5HcqJN3u1035+bJ0Xze9XZHZ23Xu2Ufd5KiRK8HCRpzwCzP+QhAeHG7br6DPgiaAlpCHnfddjsXRZ4Q6S7+7sznxMNcpyrTa0GEvCt6nufmVEDtGSHimJ4+BqdaRGvVaZd8UnEYNTb98J5IuVITQkAsAjQFHOcO2EXbbT933iVeF71PW6xXgWZdz3ICtHDrAcs5+8HhPIlGaDNtsV4F6hIXvpyuXGCXhGbU2GiQn7ue9ATxPu2QP4TSFus1AGtYjddcsO7iTO5YvA4EWAjbcdfKCPG6C/8z2uMzbmna4h8Sd0Ie3PXusC2hxR3Dd0/+zCRqkncXd4vwPUUSj/9JW6xXAezhUy4kxRvf7K6LCVY8kvKDN+km2Mq3R2iVFyiZUTvTGQ1q/oKorrdAnXGclfyIFTfFhNHsollOPEwrAr05gVpnMVxHBM3N0HwctSCXpe6jKFXe+g596EbMqT1ckIJQ874BJKYJreh+QvOzyLPtaIBip0jiP447mOJI87BDAG2ku3xMMLcIhXFXfJpyMg45AW1Cs0Tw9obap2wbLBHr5OLIt+8iIsf0BLwOelwnopA7Q7pn9gDCyYfROBl/vRUoBneqNBiHoRiMS6IkpJie7WaBE+gWLIoJ6UDwOclbWVDhPQNeBUCZF9AVJbJ7o3ungIIGFJmArku+9BswELAUil1yzm2TeDuXFoLFse6JPUfjADxKIhujXzsoxMorroIW2m2+CGH5Tl4ZQUvpQO/khOOcULKQeBQgBb742zuhr/hxpEjxCdaLXe0bjxynILeiJPbEPqsPqaVBBAd9+vl52X8aX2iczas1JYqZlBLXW8NcQ+/yT8B1MksNRE1yMpJZjruGSYjmndgINkmAWXRlnHh3CU6QVE1y447uDbYoaHk86iZbJxI1kblY12uvYOiViZjjg/Zl0XwUC8m045zEIk7KkA0Ns6QmBKeQpaCh54oBqCiLOvxcyJubL45BSQ4yEnIEwPDm42y1OOsG9nCroISUSGuPk9c+G69G4F+P0xbgd+CAy9vx8nnPay8k3lVAZ9Ul5/LFEX98kPav/3vA5umPw+FodncTo+CoP7hIasvtaLhiriQb6asM13KdqFcsB2PsFJpb8gMZSktiqB1IBS7Z2LYYbFzoSc8caN6CVYHFY3RYL1XK5XJlOqAPJza2ROACff5oq97r9SahPWUsDjOw1ZJ62cE2hVOHx1PHisMBVSmDMRFzsit1Tsr+j/8J3fCVKoUVmkkLnmjiBCWElCVCWz5XRI24OX1NW4S3xr8gVUVQCvsItCapJZSUywhbuHVISfk3bSHeFjQMlwWlcKjXkDLCdahsh48x8z2ZCsiwmoOqoZCWQ4PuvVxNyMv35NWCcB73KSnaT3YEfCbyLEUtmTAXoaDEcsCwIqRY9PzntAV5O0D3cVvQCZ8S1JO5WGIrBfayQIpdoc9kpwwEB1sJ5cOXQdZRlZLi+Ada4ZuYA8qMm4WO0lGgJrbVFxLUqWPHGbEDNRI544qSla7SsWglduEIiRiUI6yQXK66LbzcDLikfjczHYN3QtDBVRRHv9RiSSugvNyOvtrzScE0odV/WMwApR+nxCklKGHaMiHVTX3Sl7y0xVNfuwmPvqUtzBshcCe2vSXSUK9fSjgg2W3Vchxc8CudwwK1O7tMH6UtzNsAXGwfxMLlwJVMqsxUnGqiY9LzWwc2xlyreKFI/54NJwucXGIiYtAamRTCUtApR31uVcxtsc1C0JZFOLUzxAns+V06TvPeF7sSSeltW/Qi5VjC4kzZ8yUHO/Qv2Wgu0WJnK2DkvhDPSPBTQMk0kcNhlpegoyUzpGyUPNGOY5KSIJUnfldSFOJp5P1Z6N83vkZdaCtBCRHb9zRVyYuWU498wFftPUr8EtqkcVBw+5D3DvB99DM0dymMkn7J7zXLjMMKqsK6okxusjc3C/UMkEKv3EJLkrrzr7osMw4i9ZIJLX/VcmjvkWT5Dne4Ol+rQjeUoLbFTOhLRWPNrqrdCbxc8j0R62yjL2kL9nIcU9XAodAVldDl57TIsmhgYuUBI0Xf8pjaA/cRVBSVzFbreU6cbV4eEI1jziVt0V4KWKH25zSYeli5Dw2+fZXt0D7BJX8za8LpukwNv3vB/6apl1RywkyrpOIEfPAER/hLW7iXAXJ6XxDWJVsqZWZ5+0TJ2VT8qAGc1TPH3xOtgerJVGkbvAOrmvcAJ5dYeKDr/AuGOsEXj5+1DcxTOmUwXgY+1uJRSMtRz07UqT7nT/xENZycxzkjPvYw7FZrm7fVxGSdOUaVv3CCNRNFNIZYLOjcha4J/ntRMfh0Rq4G/EXAhfxEQQxhFtbWyUY5WT7jL2yh7l3KVIn1EoI3Z4QTNpyR+wsn0qaWTksZXQEnF7pyUoukJ9vKwOLEtvqSpHDSwg9DuvoTiDvhMgEX+D7BibNEMTRjyuSTFmyrtLSNOxvfUbBgEnrRCzvCio0ncUpItBJXIe2w9cjblixn+562eC8C5LE8c8VhS/WphQV5q2xTbatULViFVqXHTWxpY8odTNTDdVDuUFgRqGceC062z/QdIwG9AlsHxbgyYLJaPgPYKXO9mUzLll2oLsXZz7bYQdHRxW6wupg6VSEBoej3ps3mciKxFJgLHiatiYNmdHw7JW3hXohj/7t1ZPsCHHGPSlyMfLKOWOuStxW0bbRBFdhzglGeDLJ0xJFdiUCnyhXM52NaVoAUD/DrL52ympKStALCsb0ctFXFDt1fKlVYzvuQtmgvh3jX06cjlICij8/dqI9ttt5l28EzsjusaoN9X/Mr5Iu2K3GjkA1KY7EbFtD5KdufHOt9OcJ7LgUbnNtOa/ATahJVFOHKDV9RNI3DHGwQKNTHjrgloJr7iR2ViuBxMNczLdP6EGyrQGgV4VbYGShI2OCngk2DSPLCaiPdL1phF3dFBLOCqKIyndB1VCJxied+ul/yRRcL7mPLWnwvSXlZRiB9LFTzEaqOXYIIYEvpMCq8bd3/kBPatU60oGjCpv+m0olEeP59I9WIyx+CJZ6mnOg6Fg1Bb2mR2OpjLlSVnvAEJZHkMi61391iF6okRhRsR0c5A6NbOPcJNaJeJguXq5wjyVCUxZW+MmcrSxmjFnWetkBvAOgYbCXXXln2oVrW2pJ5EzZW1rZLIKAh9ZasotlW1IDQI5EMDXFG3AmLxgk74K2hnpyUe2niTwO0/pEYcJLMUKygRVtKkmLb2/LE33nKRCSmAAkTu8L8imGiKTF9wIUneeLPdifTFuaNQP8jkfiafTDYGYQXrlhC4ZzYfWPJSUbUhE2/nuKchG2j8F4X2G76BWI8VLGCQM9Jlwy0EOxjFSdwT5RppVqtLIU+XIwT7mS0L/9CUOu5sERVUU8sGKL5HG8wZMZyAOz2UuJ1bfhZRlC0RsKsaNRzHqrEORUqvBAwvmGRxDIgENvscBay+gj43ZQm9BZbTuJWUtuDweWgHxl3NKnnDc/q3l6TwG/ho8PBIDISnpSqFr8Q3cGtZj28crC+nC7rfrda72a9AjvnEguBC43FlRRQjOQ1x8RuNO/VK9G4ikl6GcnXAl6c+E0NfvD/cOqNxjdRVMUtpuJ3eviWZUYAoqqoe9SWcErr4fDP4eFzIK2yRy1cU/xd4xWCX8CmL6+ie0Ky1oCSDAZgOYIIJL2NH6HEv1j/POueRIQfgSQtJcsuHP4B0UaKY3ofg4kVD8b8GuKDLPSifx1s5yBy5y0bF1jCpvvuwIvBtpiOShbvKZEUlnff9N5EehX8CDToTSuVSmnilzp/TLSRoRa7Ewizmwx1016E0/hNqjN4a/9fx8NVmNl+vvoz0tafwM7D6fHJ8enDH5eQGBgYGBgYGBgYGBgYGBgYGBgYGBgYGBgYGBgYGBgYGGiG/wGY+PFcI95cpgAAAABJRU5ErkJggg==\" width =200>\n",
        "<img src = \"data:image/png;base64,iVBORw0KGgoAAAANSUhEUgAAASwAAACoCAMAAABt9SM9AAABO1BMVEX////QAADtjiTlWy34vzzNAAD24+PZVVflmZn9/////v/wxcLrlnzmVCTnajLtkCH9//vsiAD77uL307f2wDz1uYT5vj7mWizkUhz5///vjSTytaPmYjbsihXsjSztiSrnYjD4vjT78fHXRkj8vEHmVC/2wTj++vXom53kWjD88Nb75cL31434uyf5yWH04q360X77/Oz93aP1w1D76L34zG3y14jzvyv6xFf95sf2zmb99977tyf51Iz3sEPqhDjulTzynjH2pEPyqDXldjL2ukbREBnlkY/kiIPWYmLULjToqKD0wcXdb3D1rEPsdEXXGiPsdifuu6vufmPmShT0zb3ib2Xulnn33NDrolTyxJbxsHDzgwDumTzvgy/lXB/x06fuqI/uiXLw1NfncEzxrLHgY2vXPT3tnnbQ9+ByAAALCElEQVR4nO2cDVvTWBbH06at3GibUEJCAoUGm5TUKcqLy7o6CAOCb8w4DozoqMyMurvf/xPsOTd9SfPW1oVyq+fvo0+fpNL0xzn/e869N5EkEolEIpFIJBKJRCKRSCQSiUQikUgkEolEIpFIJBKJRCKRSCQSifSdyZIkpinXfRVTIU1TmKQxdt3XMR3SrNYdi1iNJNb8wWmvt677MgQX0zSmMHbXcwqG49zbsBRFU7TrvioxpSEu1tLbDb2gFwpOe7PJFPL5ZCmKZVXvtY2C7hkAq2C0t7aZJHZklS5Zq6N9LA6AYFZOQTd0wwNW8MJp32+x4KSgfn+7eLmaGakIALuStrecwqAMz/nHBuQinL7y7/1VupG7VBVnpBHCgjF2Z93xIqwKjt5w9E2NaZKgRn/5sIaHFmPVezuO19D1SGSh0+/884FiTeKbf4UmC0uBmGFsY9NzDEg6oDMg3TCQ2M6/HjKmiOhbV5CGGQI7Uth2I2pWEWb6ox+bQtb0VxBZWR/HWGu9nYkqMHrnrojd4mRhsY0f255nDIOle2hd4uGaECwNOhmorDZ1B029a+zo6PBa30W76ru9DieMgnMPqi4mVAc0GVhMgS5QgcrKGYgq5OPou/n644bH3X0wwJwfNxgTiNXEIouxh+ttGP+MwepK957s22rFXdprxAZHz9gxthWRCtQJwWIbP7R5okVYNfbzoLrsu5Wf9EiVCux0Z6slkHNdNSzoa5jCmnd3nEgFynEcIKq8WjF92XUPdw0vmou6sXN/A38iVPXXAyisK4aF/sysO1ttJ15cGQeqbQewZF+WTdd9/ASHyjBVw3D45I0YReoVw1I0S2nddxwdDDzCqrGPqNQOLIgtWXbre4Y+8EYPWiK9rW9rAqDKhFVMPpZ0OBEWRoMmbeBEjBE2dqgMdL1xkOeo7H5k+b4po3UBnh4vgzuX8WhOiFExCVYxV0whAseL6SSjkaVBK3hXj6cfBM+Bmu8rgNURWFfAKvgHshJGgdk5cSOrmDuaOT4+fnqUBO3ZMdfz4bAUa3trpxGzdd0IMjARlgne9XhgzERrExgWILqJ56zjhHPP+BkmvUiMrYE0fHgffD06D1PgqIL868Myu7AgFevm0oduzQUxiGAFhgXf+SWeYzMRIEDxhDFLgYF8NSuyGC7bNKENjFXlwCqKipcOvdBC5wJglZ/B2SBfd/f5W8WGxSNLWouQyuVOoHBSLIuVniebFofFcI1524jNGvOcGuQUqB7yrA4z9xDKiMa+Grx76mChp58wCyOLpcRVBxa0zC3obaL5BwnZUBNQ5dVfTn0zQst35T2sw6YX1u8QVRA31uqrtPqBz5QqGlv8taHHrB3MKp9Ea7b62ixHIguMXl7pvXe6YPGS4USzOInSq9Ryq2PwbHHB32sEzSD+i20fjmoJYcVhseqthQs+FIZ41Zfz0wkLj50okICQYml+1YMF1ejiggn1Jc4yGMHciw5mlcIKYVns/LfTsuyGo2tqYUFk/Q4FA9MUK4tVCBaadGXX87AGhcpKTQEVwILhlbGzpfKF/y3AyoFfWTDKaax6lNXxBGmIsPzumKajWcEXtlNDCyJLwZUMtmiWzTRYItAaARZHw+sr4FVK9fZYZPHmRQbrOkgiFAo1jCycgGGs+mahLPs+UI7CEmHSYbTIglpUsvgvH1iNBUt23V/UWEhBWbry0Y7BknrWZdbDsOzZt1VhG+k4LPArXPKzSkeZqOKwoB5fituVmv9Yr9i98rQXWTj7rJ19XrjgZVcX1uzenIanrhcUaggsjKNi8QTsCiusUmJnnQXLrMdhAaqK7FbyMVgKfIpkSc3FcjkoHZBnzX6HG7cEQDUcFu8HcScHXO7QuEqAJQ/CwjmslUMspyr9w7007Kr65rTsy/W8rdbe/9ESwq64hqYh9ytLQb8aGldDYdmqunxYdzHJ0mHBD2Dnn0/9pZXl9x9a+IsSYf4dNTwNgRW2MNb5MFA9WKC0yIIMdE1eHkRghS4JshFK37P6hV37UxLCq7rKgsXWsMfBFzAWnhdzxewp5X5kSdLr0zKfVe/CUoMx8GPFd/n0MYeFlRfkpV2rMhwIe+EDvxpFk5p/zTcZ35MjSFxlwmLSWhHHQXwb016NEljdotRqvl4qm66LU+sIy84v1+zZDw/e9Pvliho4vG3vG1vb2HNGiwNmWSLUCyENScMTKShwmPRldFh8sX71r/KC2Yss266p7yR2axAWntjfNQzn0XqLxXaSAj2BUhCVmYbH0OPg3SIYK8qz0WGBI4PrVP9eKPdgzc6jMQEsMwzLzh8YfB+I59zbiO7rVgQpGPrKTMNPTcZ4Q4jvXM1sCsOwAgG0s8+nsouw3r9tMUznQVh2fr/R21TjOJtaYO79ixOMVRYsKBDRSRSwDv47fzm8chhcsIDi7HV5Ycmu5R+A/+DPCMOylwFVb4XQwM232ww+TqQ9RhFlRRbjuFjpdhOvn0knY0UWNx2rectU3/EpA/wbhgVmVeiv1TcczzPa61UIQGEGv5gyPYvx+vAo91TiWdXMnnGIRRY0L4rFSlAYSIHzhWEt7XpeaKle5wuqhfamsHcMSNmwLLTpc1yFvonzM0w6G1prDdkmGYJlyo8bXiG8qmjohV11XojphRRlehbEwydu60WcmgM9HZaIo8OSXbPyQQ/tBMSF6nxtXty4yo4sDXscTqfIex7w3udDaI0BSzZ9t/Jzd6E+2CpiTy8sxnMw2DnzknHb+lTM3kgzBix84ZuHTxwDzMrrbNaaWliMfeofeLUaVPLHCOpSYHWQlfd0GAcbwTL99MLqkOkcOeH9rYX/YdjqTrrisOQlV/6psb/cWXueYlgz/QOQiBJPxFJmaTo+rLJv+h/zdmfCZnphSQO7aF6tYv2gYEd9iWko+/BnpTe1NcWwIivSQZPI/n2paYi8Vnrz8d8KrFzuZjA/hx01wRoCq5hb5d/EenmZafiNwsoVb0j4MAHeUY+yATeuECzfNKOw1GUsSqez3Yl6Fu6exH00UMwfpbWIo8Oq1/14ZNXe/ykJTGusyCrmShZfQvg00tbuuPqwzMOVX6OwgmV6gR+EMV5k5W4AC+ypn/7faVjJqyt4ZwX2iAGs2oc5vGNOYNMaJ7LwxItgsad5O5dLMq4xYKl8FVF2Tdm31RW1VnvXFBkUakxYuWKJTwlKpeREHBOWuvyxjpFl12bnN9gITzm4Xo0bWbkbisIX6NcS5wHHhIW4DmV5ZfZtC3dTCM4q5Q4LgIXxM5OE4wuuHmvMup1UPowJC9ejwbqW5/C5F6KjSr13p9NIJ94YVgq+1VniyXEjixcMVZFXKUJKuXfn+Ze1tbWZ5L7m9osXcPLLf5Jc66tgzVYVa2phdaYVUu6kKwY30uEjjS4NliZwJRpSSmQVu1xSUSbrK2EJtbEoXZN9Ykg6rClOQ4KVKII1hgjWGCJYY4hgjaGJw5IjsNTYbmVxNWlYbiyybHu2OhVV1qRhvSn3JpO7sGx+C933moZZullfiEYW3nHS/G5hZT7zjy2W+f2XPsDC+RnIwbctvlFuGjTZ55RqklW9dWGC3Iq6vMzn3adkegY12ccF86eJnP+GdxNU7Hytps43rSmZcUBN9kHUmsb39L7+vOBXgNUfVdwRPT2RNdlHnPOb4XDf82L54v3bB50HmpOyBOFU/e+c0EuE4kjDR4+IvZ4qjnDDBPj61Bg7iUQikUgkEolEIpFIJBKJRCKRSCQSiUQikUgkEolEIpFIJBKJRCKRSCSR9T88RT+SIQFERQAAAABJRU5ErkJggg==\" width=200>\n",
        "</div>"
      ]
    },
    {
      "cell_type": "markdown",
      "metadata": {
        "id": "cUQZhYlg93AX"
      },
      "source": [
        "# What is AI?\n",
        "Artificial intelligence is the simulation of human intelligence processes by machines, especially computer systems.\n",
        "# What is Machine Learning?\n",
        "Machine learning is a method of data analysis that automates analytical model building. It is a branch of artificial intelligence based on the idea that systems can learn from data, identify patterns and make decisions with minimal human intervention.\n",
        "# What is Deep learning?\n",
        "Type of machine learning that automates analytical model building by imitating humans. It's called deep due to the number of additional layers used to learn data.\n",
        "<div>\n",
        "<img src=\"https://miro.medium.com/max/970/0*5NrDYk8PryKASFJD\">\n",
        "</div>\n",
        "\n",
        "# What is IoT?\n",
        "The Internet of Things (IoT) describes the network of physical objects—“things”—that are embedded with sensors, software, and other technologies for the purpose of connecting and exchanging data with other devices and systems over the internet.\n",
        "# Why AI for devices\n",
        "80% of the data collected for ML is collected using IoT devices and architectures. Most of the time, the data is analyzed somewhere else (mostly cloud) and then specific instructions pertaining to the data is sent back to the device. Mostly this step can be eliminated due to increasing capability of devices with advent of technology."
      ]
    },
    {
      "cell_type": "markdown",
      "metadata": {
        "id": "XTARnQOWIXXT"
      },
      "source": [
        "# Intro to DL \n",
        "\n",
        "Type of Machine Learning that attempts to learn data the way that humans do.\n",
        "\n",
        "How do humans learn data?\n",
        " * Your brain has millions of special type of cells called neurons.\n",
        " * Each and every neuron in your brain is trained to deal with data(nerve signals).\n",
        " * Neurons get electrical signals from organs(eyes, ears, touch etc.) and analyze them. There are a set of neurons that analyze eyes, set of neurons that analyze ears and so on.<br>\n",
        " <b>Consider this dog</b>\n",
        "<div>\n",
        "<img src = \"https://hips.hearstapps.com/hmg-prod.s3.amazonaws.com/images/dog-puppy-on-garden-royalty-free-image-1586966191.jpg?crop=1.00xw:0.669xh;0,0.190xh&resize=1200:*\">\n",
        "</div>\n",
        " 1. Your eyes convert light into electricity for analyzing.\n",
        " 2. A set of neurons analyze colours, a set of neurons analyze shapes and edges.\n",
        " 3. You see that one shape is distinct(That of the dog). \n",
        " 4. First time you see a dog, you don't know it's a dog unless someone tells you or you learn on your own.\n",
        " 5. Next time your brain sees a similiar pattern, it knows it's a dog.\n",
        " 6. Based on the edges, colours etc., you can identify the breed and background details.\n",
        " 7. The more the brain cells or neurons, the more you can analyze and the more smarter you are. Humans have the second highest number of neurons in the world next only to dolphins.\n",
        "\n",
        "## How do we replicate this in computers\n",
        "Since we are analyzing electronic signals anyways, we can recreate the entire thing using computers. \n",
        "\n",
        "The main problem is to convert data into electronic signals or something that can be represented virtually, thankfully camera and microphones have been invented so we can do it with no problem at all.\n",
        "\n",
        "Since conversion of data into electrical signals is no longer a problem, the next problem is learning(i.e telling the computer we are looking at a dog). Computers can't understand words but what they can understand in detail are numbers. Hence we assign numbers. \n",
        "\n",
        "Since we are now dealing with numbers, mathematics comes into the picture. If the computer say incorrectly classifies a picture, we also have to deal with some sort of metric to guide the computer. The main mathematics concepts involved are statistics, probability, linear algebra and calculus. \n",
        "\n",
        "Thankfully most of the formulas and steps are repeated here for any sort of application so we can build this stuff using libraries that already contain prewritten steps and algorithms(Keras, Tensorflow and pytorch).\n",
        "\n",
        "Now let's discuss how to recreate\n",
        "<div>\n",
        "<img src=\"https://www.researchgate.net/profile/Zafeirios-Fountas/publication/266485234/figure/fig2/AS:651919710224385@1532441179639/The-simplest-mathematical-model-of-a-neuron-called-the-Perceptron-30.png\" >\n",
        "<img src=\"https://1.cms.s81c.com/sites/default/files/2021-01-06/ICLH_Diagram_Batch_01_03-DeepNeuralNetwork-WHITEBG.png\" >\n",
        "\n",
        "Example of a Dense Neural Network\n",
        "\n",
        "Now let's see how images are built and then let's write some code.\n",
        "\n",
        "<div>\n",
        "<img src=\"https://www.researchgate.net/profile/M-S-Minu-Sanjudharan/publication/333202093/figure/fig1/AS:760280803975169@1558276477576/A-grayscale-image-as-matrix-of-numbers-111-Convolution-Operator-The-reason-for.jpg\">\n",
        "<img src=\"https://www.researchgate.net/profile/Jane-Courtney/publication/267210444/figure/fig6/AS:295732335661069@1447519491773/A-three-dimensional-RGB-matrix-Each-layer-of-the-matrix-is-a-two-dimensional-matrix.png\">\n",
        "</div>\n",
        "\n",
        "\n",
        "\n"
      ]
    },
    {
      "cell_type": "code",
      "metadata": {
        "id": "iwhlhXo-IZcX"
      },
      "source": [
        "import cv2 as cv\n",
        "import numpy as np\n",
        "gray = cv.imread('/content/bird.jpeg', cv.IMREAD_GRAYSCALE)\n",
        "col = cv.imread('/content/bird_gray.jpeg')"
      ],
      "execution_count": null,
      "outputs": []
    },
    {
      "cell_type": "markdown",
      "metadata": {
        "id": "RRw7clg18L__"
      },
      "source": [
        "## Making a computer recognize handwritten digits with keras and tensorflow."
      ]
    },
    {
      "cell_type": "code",
      "metadata": {
        "id": "GHV5j4Tp6qDb"
      },
      "source": [
        "import tensorflow as tf\n",
        "from tensorflow import keras\n",
        "from tensorflow.keras.datasets import mnist\n",
        "from tensorflow.keras.models import Sequential\n",
        "from tensorflow.keras.layers import Flatten, Dense ,Activation, Conv2D, MaxPool2D"
      ],
      "execution_count": null,
      "outputs": []
    },
    {
      "cell_type": "code",
      "metadata": {
        "id": "NTeXljIt8coQ",
        "colab": {
          "base_uri": "https://localhost:8080/"
        },
        "outputId": "c70ede12-0117-48a1-8803-5f73d1b26d2c"
      },
      "source": [
        "(x_train, y_train), (x_test, y_test) = mnist.load_data()"
      ],
      "execution_count": null,
      "outputs": [
        {
          "output_type": "stream",
          "name": "stdout",
          "text": [
            "Downloading data from https://storage.googleapis.com/tensorflow/tf-keras-datasets/mnist.npz\n",
            "11493376/11490434 [==============================] - 0s 0us/step\n",
            "11501568/11490434 [==============================] - 0s 0us/step\n"
          ]
        }
      ]
    },
    {
      "cell_type": "code",
      "metadata": {
        "colab": {
          "base_uri": "https://localhost:8080/",
          "height": 282
        },
        "id": "gEcIqbrs8yK1",
        "outputId": "561aa4b3-5134-4c5c-eeda-6c2176470006"
      },
      "source": [
        "%matplotlib inline\n",
        "import matplotlib.pyplot as plt \n",
        "plt.imshow(x_train[0])"
      ],
      "execution_count": null,
      "outputs": [
        {
          "output_type": "execute_result",
          "data": {
            "text/plain": [
              "<matplotlib.image.AxesImage at 0x7efd0c32b350>"
            ]
          },
          "metadata": {},
          "execution_count": 4
        },
        {
          "output_type": "display_data",
          "data": {
            "image/png": "[encoded data removed]",
            "text/plain": [
              "<Figure size 432x288 with 1 Axes>"
            ]
          },
          "metadata": {
            "needs_background": "light"
          }
        }
      ]
    },
    {
      "cell_type": "code",
      "metadata": {
        "colab": {
          "base_uri": "https://localhost:8080/"
        },
        "id": "dk5oIs7x88kU",
        "outputId": "57d81482-37d8-4d6b-fc28-a407531c3b27"
      },
      "source": [
        "y_train[0]"
      ],
      "execution_count": null,
      "outputs": [
        {
          "output_type": "execute_result",
          "data": {
            "text/plain": [
              "5"
            ]
          },
          "metadata": {},
          "execution_count": 5
        }
      ]
    },
    {
      "cell_type": "code",
      "metadata": {
        "id": "EdJzBFQ59QVb"
      },
      "source": [
        "x_train = x_train.astype('float32')/255.0\n",
        "x_test = x_test.astype('float32')/255.0"
      ],
      "execution_count": null,
      "outputs": []
    },
    {
      "cell_type": "code",
      "metadata": {
        "id": "gIr1olZx9lEO"
      },
      "source": [
        "y_train = keras.utils.to_categorical(y_train, 10)\n",
        "y_test = keras.utils.to_categorical(y_test, 10)"
      ],
      "execution_count": null,
      "outputs": []
    },
    {
      "cell_type": "code",
      "metadata": {
        "colab": {
          "base_uri": "https://localhost:8080/"
        },
        "id": "ianrLfmZ90CY",
        "outputId": "0340407b-3dcc-4c1e-d57b-bca0fee688b1"
      },
      "source": [
        "y_train[0]"
      ],
      "execution_count": null,
      "outputs": [
        {
          "output_type": "execute_result",
          "data": {
            "text/plain": [
              "array([0., 0., 0., 0., 0., 1., 0., 0., 0., 0.], dtype=float32)"
            ]
          },
          "metadata": {},
          "execution_count": 8
        }
      ]
    },
    {
      "cell_type": "code",
      "metadata": {
        "colab": {
          "base_uri": "https://localhost:8080/"
        },
        "id": "IyncQbeb90u-",
        "outputId": "92c0a470-1a6e-4473-8fcf-8ef9faf10849"
      },
      "source": [
        "model = Sequential(\n",
        "    [Flatten(input_shape=(28,28, 1)),\n",
        "    Dense(128, activation='relu'),\n",
        "    Dense(256,activation='relu'),\n",
        "    Dense(128, activation='relu'),\n",
        "    Dense(10, activation='softmax'),\n",
        "    ]\n",
        ")\n",
        "model.summary()"
      ],
      "execution_count": null,
      "outputs": [
        {
          "output_type": "stream",
          "name": "stdout",
          "text": [
            "Model: \"sequential\"\n",
            "_________________________________________________________________\n",
            " Layer (type)                Output Shape              Param #   \n",
            "=================================================================\n",
            " flatten (Flatten)           (None, 784)               0         \n",
            "                                                                 \n",
            " dense (Dense)               (None, 128)               100480    \n",
            "                                                                 \n",
            " dense_1 (Dense)             (None, 256)               33024     \n",
            "                                                                 \n",
            " dense_2 (Dense)             (None, 128)               32896     \n",
            "                                                                 \n",
            " dense_3 (Dense)             (None, 10)                1290      \n",
            "                                                                 \n",
            "=================================================================\n",
            "Total params: 167,690\n",
            "Trainable params: 167,690\n",
            "Non-trainable params: 0\n",
            "_________________________________________________________________\n"
          ]
        }
      ]
    },
    {
      "cell_type": "code",
      "metadata": {
        "colab": {
          "base_uri": "https://localhost:8080/"
        },
        "id": "SwfMXa6B-kqg",
        "outputId": "4a07a22e-f804-4ca7-dbbb-f6dc1521a0f1"
      },
      "source": [
        "model.compile(loss=\"categorical_crossentropy\", optimizer=\"adam\", metrics=[\"accuracy\"])\n",
        "model.fit(x_train, y_train, batch_size=128, epochs=15)"
      ],
      "execution_count": null,
      "outputs": [
        {
          "output_type": "stream",
          "name": "stdout",
          "text": [
            "Epoch 1/15\n",
            "469/469 [==============================] - 5s 4ms/step - loss: 0.2949 - accuracy: 0.9135\n",
            "Epoch 2/15\n",
            "469/469 [==============================] - 2s 4ms/step - loss: 0.1124 - accuracy: 0.9660\n",
            "Epoch 3/15\n",
            "469/469 [==============================] - 2s 4ms/step - loss: 0.0761 - accuracy: 0.9762\n",
            "Epoch 4/15\n",
            "469/469 [==============================] - 2s 4ms/step - loss: 0.0565 - accuracy: 0.9824\n",
            "Epoch 5/15\n",
            "469/469 [==============================] - 2s 4ms/step - loss: 0.0430 - accuracy: 0.9862\n",
            "Epoch 6/15\n",
            "469/469 [==============================] - 2s 4ms/step - loss: 0.0374 - accuracy: 0.9878\n",
            "Epoch 7/15\n",
            "469/469 [==============================] - 2s 5ms/step - loss: 0.0305 - accuracy: 0.9898\n",
            "Epoch 8/15\n",
            "469/469 [==============================] - 2s 4ms/step - loss: 0.0250 - accuracy: 0.9916\n",
            "Epoch 9/15\n",
            "469/469 [==============================] - 2s 4ms/step - loss: 0.0225 - accuracy: 0.9926\n",
            "Epoch 10/15\n",
            "469/469 [==============================] - 2s 4ms/step - loss: 0.0211 - accuracy: 0.9933\n",
            "Epoch 11/15\n",
            "469/469 [==============================] - 2s 4ms/step - loss: 0.0195 - accuracy: 0.9934\n",
            "Epoch 12/15\n",
            "469/469 [==============================] - 2s 4ms/step - loss: 0.0167 - accuracy: 0.9946\n",
            "Epoch 13/15\n",
            "469/469 [==============================] - 2s 4ms/step - loss: 0.0141 - accuracy: 0.9953\n",
            "Epoch 14/15\n",
            "469/469 [==============================] - 2s 4ms/step - loss: 0.0175 - accuracy: 0.9940\n",
            "Epoch 15/15\n",
            "469/469 [==============================] - 2s 4ms/step - loss: 0.0165 - accuracy: 0.9947\n"
          ]
        },
        {
          "output_type": "execute_result",
          "data": {
            "text/plain": [
              "<keras.callbacks.History at 0x7efc93748510>"
            ]
          },
          "metadata": {},
          "execution_count": 10
        }
      ]
    },
    {
      "cell_type": "code",
      "metadata": {
        "colab": {
          "base_uri": "https://localhost:8080/"
        },
        "id": "yG-z3zQd_gl4",
        "outputId": "65914116-220a-4d7f-f2b0-117a0283e42e"
      },
      "source": [
        "score = model.evaluate(x_test, y_test, verbose=0)\n",
        "print(\"Test loss:\", score[0])\n",
        "print(\"Test accuracy:\", score[1])"
      ],
      "execution_count": null,
      "outputs": [
        {
          "output_type": "stream",
          "name": "stdout",
          "text": [
            "Test loss: 0.08588366955518723\n",
            "Test accuracy: 0.9793000221252441\n"
          ]
        }
      ]
    },
    {
      "cell_type": "code",
      "metadata": {
        "colab": {
          "base_uri": "https://localhost:8080/"
        },
        "id": "zgSWocCO07UQ",
        "outputId": "da7a6f9b-5c76-433d-f092-424ac251e372"
      },
      "source": [
        "pred=model.predict(x_train[0].reshape(1, 28,28,1))\n",
        "np.argmax(pred)"
      ],
      "execution_count": null,
      "outputs": [
        {
          "output_type": "execute_result",
          "data": {
            "text/plain": [
              "5"
            ]
          },
          "metadata": {},
          "execution_count": 28
        }
      ]
    },
    {
      "cell_type": "markdown",
      "metadata": {
        "id": "2hFpLFva1uLq"
      },
      "source": [
        "# Convolutions,Pooling and how do they work\n",
        "## Convolutions\n",
        "![SegmentLocal](https://miro.medium.com/max/625/1*GcI7G-JLAQiEoCON7xFbhg.gif \"segment\")\n",
        "![Strides](https://miro.medium.com/max/1400/0*TsOwf6kzkUV8LZBX)\n",
        "![Convolution formula](https://qph.fs.quoracdn.net/main-qimg-777ad7934005c9809e7cfe18c939cdc2)\n",
        "## Pooling\n",
        "![Pooling](https://miro.medium.com/max/625/1*KQIEqhxzICU7thjaQBfPBQ.png)\n"
      ]
    },
    {
      "cell_type": "code",
      "metadata": {
        "id": "DdlSCVl9N15f"
      },
      "source": [
        "from math import floor\n",
        "stride=3\n",
        "kernel = np.array([[0,-1,0], [-1,4,-1], [0,-1,0]])\n",
        "res_width = floor((gray.shape[0]-3)/stride) + 1\n",
        "res_height = floor((gray.shape[1]-3)/stride) + 1\n",
        "result = np.zeros((res_width,res_height))\n",
        "for i in range(res_width):\n",
        "  for j in range(res_height):\n",
        "    sum = 0\n",
        "    for m in np.arange(3):\n",
        "      for n in np.arange(3):\n",
        "        sum += gray[(stride * i) + m, (stride * j) + n] * kernel[m, n]\n",
        "    result[i,j] = sum\n",
        "\n"
      ],
      "execution_count": null,
      "outputs": []
    },
    {
      "cell_type": "code",
      "metadata": {
        "colab": {
          "base_uri": "https://localhost:8080/",
          "height": 285
        },
        "id": "b1LrttVkOrzu",
        "outputId": "2f325aa0-bb89-4d8c-af07-a0ae332b4146"
      },
      "source": [
        "plt.imshow(result)"
      ],
      "execution_count": null,
      "outputs": [
        {
          "output_type": "execute_result",
          "data": {
            "text/plain": [
              "<matplotlib.image.AxesImage at 0x7efc91eac510>"
            ]
          },
          "metadata": {},
          "execution_count": 16
        },
        {
          "output_type": "display_data",
          "data": {
            "image/png": "[encoded data removed]",
            "text/plain": [
              "<Figure size 432x288 with 1 Axes>"
            ]
          },
          "metadata": {
            "needs_background": "light"
          }
        }
      ]
    },
    {
      "cell_type": "markdown",
      "metadata": {
        "id": "RM2WinJBwUZV"
      },
      "source": [
        "# A typical convolutional neural network\n",
        "![CNN](https://miro.medium.com/max/2000/1*vkQ0hXDaQv57sALXAJquxA.jpeg)"
      ]
    },
    {
      "cell_type": "code",
      "metadata": {
        "id": "zWGVjkEmRGKX",
        "colab": {
          "base_uri": "https://localhost:8080/"
        },
        "outputId": "1819d04b-ee54-4973-8f41-a9444b5349d7"
      },
      "source": [
        "modelCNN = Sequential([\n",
        "    Conv2D(32, (3,3), activation=\"relu\", input_shape=(28,28,1),strides=1),\n",
        "    MaxPool2D((2,2),strides=1),\n",
        "    Conv2D(16, (3,3), activation=\"relu\", input_shape=(28,28,1), strides=1),\n",
        "    MaxPool2D((2,2), strides=1),\n",
        "    Flatten(),\n",
        "    Dense(100, activation='relu'),\n",
        "    Dense(10, activation='softmax')\n",
        "]\n",
        ")\n",
        "modelCNN.summary()"
      ],
      "execution_count": null,
      "outputs": [
        {
          "output_type": "stream",
          "name": "stdout",
          "text": [
            "Model: \"sequential_1\"\n",
            "_________________________________________________________________\n",
            " Layer (type)                Output Shape              Param #   \n",
            "=================================================================\n",
            " conv2d (Conv2D)             (None, 26, 26, 32)        320       \n",
            "                                                                 \n",
            " max_pooling2d (MaxPooling2D  (None, 25, 25, 32)       0         \n",
            " )                                                               \n",
            "                                                                 \n",
            " conv2d_1 (Conv2D)           (None, 23, 23, 16)        4624      \n",
            "                                                                 \n",
            " max_pooling2d_1 (MaxPooling  (None, 22, 22, 16)       0         \n",
            " 2D)                                                             \n",
            "                                                                 \n",
            " flatten_1 (Flatten)         (None, 7744)              0         \n",
            "                                                                 \n",
            " dense_4 (Dense)             (None, 100)               774500    \n",
            "                                                                 \n",
            " dense_5 (Dense)             (None, 10)                1010      \n",
            "                                                                 \n",
            "=================================================================\n",
            "Total params: 780,454\n",
            "Trainable params: 780,454\n",
            "Non-trainable params: 0\n",
            "_________________________________________________________________\n"
          ]
        }
      ]
    },
    {
      "cell_type": "code",
      "metadata": {
        "colab": {
          "base_uri": "https://localhost:8080/"
        },
        "id": "fGKt0d32zhQw",
        "outputId": "533f3cf8-f799-4e9d-e45c-900de38a6cf7"
      },
      "source": [
        "modelCNN.compile(loss=\"categorical_crossentropy\", optimizer=\"adam\", metrics=[\"accuracy\"])\n",
        "modelCNN.fit(x_train, y_train, batch_size=128, epochs=5)"
      ],
      "execution_count": null,
      "outputs": [
        {
          "output_type": "stream",
          "name": "stdout",
          "text": [
            "Epoch 1/5\n",
            "469/469 [==============================] - 33s 12ms/step - loss: 0.1462 - accuracy: 0.9561\n",
            "Epoch 2/5\n",
            "469/469 [==============================] - 5s 11ms/step - loss: 0.0454 - accuracy: 0.9860\n",
            "Epoch 3/5\n",
            "469/469 [==============================] - 5s 11ms/step - loss: 0.0309 - accuracy: 0.9901\n",
            "Epoch 4/5\n",
            "469/469 [==============================] - 5s 11ms/step - loss: 0.0226 - accuracy: 0.9928\n",
            "Epoch 5/5\n",
            "469/469 [==============================] - 5s 11ms/step - loss: 0.0143 - accuracy: 0.9956\n"
          ]
        },
        {
          "output_type": "execute_result",
          "data": {
            "text/plain": [
              "<keras.callbacks.History at 0x7efc9351f290>"
            ]
          },
          "metadata": {},
          "execution_count": 18
        }
      ]
    },
    {
      "cell_type": "code",
      "metadata": {
        "colab": {
          "base_uri": "https://localhost:8080/"
        },
        "id": "UnEtJ6lAznaG",
        "outputId": "f8f545d2-f3a6-4022-af49-5734ad0efe8e"
      },
      "source": [
        "score = model.evaluate(x_test, y_test, verbose=0)\n",
        "print(\"Test loss:\", score[0])\n",
        "print(\"Test accuracy:\", score[1])"
      ],
      "execution_count": null,
      "outputs": [
        {
          "output_type": "stream",
          "name": "stdout",
          "text": [
            "Test loss: 0.08588366955518723\n",
            "Test accuracy: 0.9793000221252441\n"
          ]
        }
      ]
    },
    {
      "cell_type": "markdown",
      "metadata": {
        "id": "rRKiwWlA01vI"
      },
      "source": [
        "# Object Detection\n",
        "![cat, dog](https://drive.google.com/uc?export=view&id=1Bi-yw8BXGj_RwJnGyMaQc1CBHS_g1Rb2)\n",
        "[Object Detection](https://drive.google.com/file/d/192VH3vb3drpLhEE8vRqo2esp81KOARaP/view?usp=sharing)\n",
        "[R-CNN](https://arxiv.org/pdf/1311.2524.pdf)\n",
        "[SSD](https://arxiv.org/pdf/1512.02325.pdf)<br><br>\n",
        "<img src = https://lh3.googleusercontent.com/proxy/BGgEEMiAdZs_5RTPyND9rID6bedMMZ2CcNnDOmxnRUZRmjL8bObfMAyNJ1kvMXGdvcaRmLaInY3VKSBlzqU24xlf1FLkheYhtx7te4MiI2Fxerse6_jA87oBFyJirV7nAE5Zaxs height=500>\n",
        "\n"
      ]
    },
    {
      "cell_type": "code",
      "metadata": {
        "id": "6XS4mXdGLa7P"
      },
      "source": [
        ""
      ],
      "execution_count": null,
      "outputs": []
    }
  ]
}